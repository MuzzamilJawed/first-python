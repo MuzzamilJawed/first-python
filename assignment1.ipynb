{
 "cells": [
  {
   "cell_type": "code",
   "execution_count": 2,
   "metadata": {},
   "outputs": [
    {
     "ename": "IndentationError",
     "evalue": "unindent does not match any outer indentation level (<tokenize>, line 24)",
     "output_type": "error",
     "traceback": [
      "\u001b[1;36m  File \u001b[1;32m\"<tokenize>\"\u001b[1;36m, line \u001b[1;32m24\u001b[0m\n\u001b[1;33m    return\u001b[0m\n\u001b[1;37m    ^\u001b[0m\n\u001b[1;31mIndentationError\u001b[0m\u001b[1;31m:\u001b[0m unindent does not match any outer indentation level\n"
     ]
    }
   ],
   "source": [
    "# Basic string exercises\n",
    "# Fill in the code for the functions below. main() is already set up\n",
    "# to call the functions with a few different inputs,\n",
    "# printing 'OK' when each function is correct.\n",
    "# The starter code for each function includes a 'return'\n",
    "# which is just a placeholder for your code.\n",
    "# It's ok if you do not complete all the functions, and there\n",
    "# are some additional functions to try in assignment2.py.\n",
    "\n",
    "\n",
    "# A. donuts\n",
    "# Given an int count of a number of donuts, return a string\n",
    "# of the form 'Number of donuts: <count>', where <count> is the number\n",
    "# passed in. However, if the count is 10 or more, then use the word 'many'\n",
    "# instead of the actual count.\n",
    "# So donuts(5) returns 'Number of donuts: 5'\n",
    "# and donuts(23) returns 'Number of donuts: many'\n",
    "def donuts(count):\n",
    "    if(count>10):\n",
    "        print('many')\n",
    "    else:\n",
    "        print('Number of donuts')\n",
    "        \n",
    "  return\n",
    "\n",
    "\n",
    "# B. both_ends\n",
    "# Given a string s, return a string made of the first 2\n",
    "# and the last 2 chars of the original string,\n",
    "# so 'spring' yields 'spng'. However, if the string length\n",
    "# is less than 2, return instead the empty string.\n",
    "def both_ends(s):\n",
    "  # +++your code here+++\n",
    "  return\n",
    "\n",
    "\n",
    "# C. fix_start\n",
    "# Given a string s, return a string\n",
    "# where all occurences of its first char have\n",
    "# been changed to '*', except do not change\n",
    "# the first char itself.\n",
    "# e.g. 'babble' yields 'ba**le'\n",
    "# Assume that the string is length 1 or more.\n",
    "# Hint: s.replace(stra, strb) returns a version of string s\n",
    "# where all instances of stra have been replaced by strb.\n",
    "def fix_start(s):\n",
    "  # +++your code here+++\n",
    "  return\n",
    "\n",
    "\n",
    "# D. MixUp\n",
    "# Given strings a and b, return a single string with a and b separated\n",
    "# by a space '<a> <b>', except swap the first 2 chars of each string.\n",
    "# e.g.\n",
    "#   'mix', pod' -> 'pox mid'\n",
    "#   'dog', 'dinner' -> 'dig donner'\n",
    "# Assume a and b are length 2 or more.\n",
    "def mix_up(a, b):\n",
    "  # +++your code here+++\n",
    "  return\n",
    "\n",
    "\n",
    "# Provided simple test() function used in main() to print\n",
    "# what each function returns vs. what it's supposed to return.\n",
    "def test(got, expected):\n",
    "  if got == expected:\n",
    "    prefix = ' OK '\n",
    "  else:\n",
    "    prefix = '  X '\n",
    "  print '%s got: %s expected: %s' % (prefix, repr(got), repr(expected))\n",
    "\n",
    "\n",
    "# Provided main() calls the above functions with interesting inputs,\n",
    "# using test() to check if each result is correct or not.\n",
    "def main():\n",
    "  print 'donuts'\n",
    "  # Each line calls donuts, compares its result to the expected for that call.\n",
    "  test(donuts(4), 'Number of donuts: 4')\n",
    "  test(donuts(9), 'Number of donuts: 9')\n",
    "  test(donuts(10), 'Number of donuts: many')\n",
    "  test(donuts(99), 'Number of donuts: many')\n",
    "\n",
    "  print\n",
    "  print 'both_ends'\n",
    "  test(both_ends('spring'), 'spng')\n",
    "  test(both_ends('Hello'), 'Helo')\n",
    "  test(both_ends('a'), '')\n",
    "  test(both_ends('xyz'), 'xyyz')\n",
    "\n",
    "  \n",
    "  print\n",
    "  print 'fix_start'\n",
    "  test(fix_start('babble'), 'ba**le')\n",
    "  test(fix_start('aardvark'), 'a*rdv*rk')\n",
    "  test(fix_start('google'), 'goo*le')\n",
    "  test(fix_start('donut'), 'donut')\n",
    "\n",
    "  print\n",
    "  print 'mix_up'\n",
    "  test(mix_up('mix', 'pod'), 'pox mid')\n",
    "  test(mix_up('dog', 'dinner'), 'dig donner')\n",
    "  test(mix_up('gnash', 'sport'), 'spash gnort')\n",
    "  test(mix_up('pezzy', 'firm'), 'fizzy perm')\n",
    "\n",
    "\n",
    "# Standard boilerplate to call the main() function.\n",
    "if __name__ == '__main__':\n",
    "  main()\n",
    "\n"
   ]
  },
  {
   "cell_type": "code",
   "execution_count": 16,
   "metadata": {},
   "outputs": [],
   "source": [
    "def donuts(count):\n",
    "    if(count>10):\n",
    "        return 'many'\n",
    "    else:\n",
    "        return 'Number of donuts:'+str(count)\n",
    "        \n",
    " "
   ]
  },
  {
   "cell_type": "code",
   "execution_count": 17,
   "metadata": {},
   "outputs": [
    {
     "data": {
      "text/plain": [
       "'Number of donuts:3'"
      ]
     },
     "execution_count": 17,
     "metadata": {},
     "output_type": "execute_result"
    }
   ],
   "source": [
    "donuts(3)"
   ]
  },
  {
   "cell_type": "code",
   "execution_count": 74,
   "metadata": {},
   "outputs": [],
   "source": [
    "def both_ends(s):\n",
    "    a=len(s)\n",
    "    if (a<=2):\n",
    "        return 'empty string' \n",
    "    else:\n",
    "        \n",
    "        return s[0:2]+s[-2:]\n",
    "        "
   ]
  },
  {
   "cell_type": "code",
   "execution_count": 75,
   "metadata": {},
   "outputs": [
    {
     "data": {
      "text/plain": [
       "'spng'"
      ]
     },
     "execution_count": 75,
     "metadata": {},
     "output_type": "execute_result"
    }
   ],
   "source": [
    "both_ends('spring')"
   ]
  },
  {
   "cell_type": "code",
   "execution_count": 85,
   "metadata": {},
   "outputs": [],
   "source": [
    "def fix_start(s):\n",
    "    front= s [0:1]\n",
    "    fromSecondCharacter = s [1:]\n",
    "    back=fromSecondCharacter.replace(front,'*')\n",
    "    return front+back\n",
    " "
   ]
  },
  {
   "cell_type": "code",
   "execution_count": 86,
   "metadata": {},
   "outputs": [
    {
     "name": "stdout",
     "output_type": "stream",
     "text": [
      "a**le\n"
     ]
    },
    {
     "data": {
      "text/plain": [
       "'ba**le'"
      ]
     },
     "execution_count": 86,
     "metadata": {},
     "output_type": "execute_result"
    }
   ],
   "source": [
    "fix_start('babble')"
   ]
  },
  {
   "cell_type": "code",
   "execution_count": 98,
   "metadata": {},
   "outputs": [],
   "source": [
    "# D. MixUp\n",
    "# Given strings a and b, return a single string with a and b separated\n",
    "# by a space '<a> <b>', except swap the first 2 chars of each string.\n",
    "# e.g.\n",
    "#   'mix', pod' -> 'pox mid'\n",
    "#   'dog', 'dinner' -> 'dig donner'\n",
    "# Assume a and b are length 2 or more.\n",
    "def mix_up(a, b):\n",
    "    A=a[0:2]\n",
    "    B=b[0:2]\n",
    "    \n",
    "    return B+a[2:],A+b[2:]"
   ]
  },
  {
   "cell_type": "code",
   "execution_count": 99,
   "metadata": {},
   "outputs": [
    {
     "data": {
      "text/plain": [
       "('pox', 'mid')"
      ]
     },
     "execution_count": 99,
     "metadata": {},
     "output_type": "execute_result"
    }
   ],
   "source": [
    "mix_up('mix','pod')"
   ]
  },
  {
   "cell_type": "code",
   "execution_count": 6,
   "metadata": {},
   "outputs": [
    {
     "ename": "NameError",
     "evalue": "name 'donuts' is not defined",
     "output_type": "error",
     "traceback": [
      "\u001b[1;31m---------------------------------------------------------------------------\u001b[0m",
      "\u001b[1;31mNameError\u001b[0m                                 Traceback (most recent call last)",
      "\u001b[1;32m<ipython-input-6-81fd7e8041d0>\u001b[0m in \u001b[0;36m<module>\u001b[1;34m\u001b[0m\n\u001b[0;32m     45\u001b[0m \u001b[1;31m# Standard boilerplate to call the main() function.\u001b[0m\u001b[1;33m\u001b[0m\u001b[1;33m\u001b[0m\u001b[1;33m\u001b[0m\u001b[0m\n\u001b[0;32m     46\u001b[0m \u001b[1;32mif\u001b[0m \u001b[0m__name__\u001b[0m \u001b[1;33m==\u001b[0m \u001b[1;34m'__main__'\u001b[0m\u001b[1;33m:\u001b[0m\u001b[1;33m\u001b[0m\u001b[1;33m\u001b[0m\u001b[0m\n\u001b[1;32m---> 47\u001b[1;33m   \u001b[0mmain\u001b[0m\u001b[1;33m(\u001b[0m\u001b[1;33m)\u001b[0m\u001b[1;33m\u001b[0m\u001b[1;33m\u001b[0m\u001b[0m\n\u001b[0m\u001b[0;32m     48\u001b[0m \u001b[1;33m\u001b[0m\u001b[0m\n",
      "\u001b[1;32m<ipython-input-6-81fd7e8041d0>\u001b[0m in \u001b[0;36mmain\u001b[1;34m()\u001b[0m\n\u001b[0;32m     13\u001b[0m \u001b[1;31m# using test() to check if each result is correct or not.\u001b[0m\u001b[1;33m\u001b[0m\u001b[1;33m\u001b[0m\u001b[1;33m\u001b[0m\u001b[0m\n\u001b[0;32m     14\u001b[0m \u001b[1;32mdef\u001b[0m \u001b[0mmain\u001b[0m\u001b[1;33m(\u001b[0m\u001b[1;33m)\u001b[0m\u001b[1;33m:\u001b[0m\u001b[1;33m\u001b[0m\u001b[1;33m\u001b[0m\u001b[0m\n\u001b[1;32m---> 15\u001b[1;33m   \u001b[0mprint\u001b[0m \u001b[1;33m(\u001b[0m\u001b[0mdonuts\u001b[0m\u001b[1;33m)\u001b[0m\u001b[1;33m\u001b[0m\u001b[1;33m\u001b[0m\u001b[0m\n\u001b[0m\u001b[0;32m     16\u001b[0m   \u001b[1;31m# Each line calls donuts, compares its result to the expected for that call.\u001b[0m\u001b[1;33m\u001b[0m\u001b[1;33m\u001b[0m\u001b[1;33m\u001b[0m\u001b[0m\n\u001b[0;32m     17\u001b[0m   \u001b[0mtest\u001b[0m\u001b[1;33m(\u001b[0m\u001b[0mdonuts\u001b[0m\u001b[1;33m(\u001b[0m\u001b[1;36m4\u001b[0m\u001b[1;33m)\u001b[0m\u001b[1;33m,\u001b[0m \u001b[1;34m'Number of donuts: 4'\u001b[0m\u001b[1;33m)\u001b[0m\u001b[1;33m\u001b[0m\u001b[1;33m\u001b[0m\u001b[0m\n",
      "\u001b[1;31mNameError\u001b[0m: name 'donuts' is not defined"
     ]
    }
   ],
   "source": [
    "\n",
    "# Provided simple test() function used in main() to print\n",
    "# what each function returns vs. what it's supposed to return.\n",
    "def test(got, expected):\n",
    "  if got == expected:\n",
    "    prefix = ' OK '\n",
    "  else:\n",
    "    prefix = '  X '\n",
    "  print ('%s got: %s expected: %s' % (prefix, repr(got), repr(expected)))\n",
    "\n",
    "\n",
    "# Provided main() calls the above functions with interesting inputs,\n",
    "# using test() to check if each result is correct or not.\n",
    "def main():\n",
    "  print (donuts)\n",
    "  # Each line calls donuts, compares its result to the expected for that call.\n",
    "  test(donuts(4), 'Number of donuts: 4')\n",
    "  test(donuts(9), 'Number of donuts: 9')\n",
    "  test(donuts(10), 'Number of donuts: many')\n",
    "  test(donuts(99), 'Number of donuts: many')\n",
    "\n",
    "  print\n",
    "  print ('both_ends')\n",
    "  test(both_ends('spring'), 'spng')\n",
    "  test(both_ends('Hello'), 'Helo')\n",
    "  test(both_ends('a'), '')\n",
    "  test(both_ends('xyz'), 'xyyz')\n",
    "\n",
    "  \n",
    "  print\n",
    "  print ('fix_start')\n",
    "  test(fix_start('babble'), 'ba**le')\n",
    "  test(fix_start('aardvark'), 'a*rdv*rk')\n",
    "  test(fix_start('google'), 'goo*le')\n",
    "  test(fix_start('donut'), 'donut')\n",
    "\n",
    "  print\n",
    "  print ('mix_up')\n",
    "  test(mix_up('mix', 'pod'), 'pox mid')\n",
    "  test(mix_up('dog', 'dinner'), 'dig donner')\n",
    "  test(mix_up('gnash', 'sport'), 'spash gnort')\n",
    "  test(mix_up('pezzy', 'firm'), 'fizzy perm')\n",
    "\n",
    "\n",
    "# Standard boilerplate to call the main() function.\n",
    "if __name__ == '__main__':\n",
    "  main()\n",
    "\n"
   ]
  },
  {
   "cell_type": "code",
   "execution_count": null,
   "metadata": {},
   "outputs": [],
   "source": []
  }
 ],
 "metadata": {
  "kernelspec": {
   "display_name": "Python 3",
   "language": "python",
   "name": "python3"
  },
  "language_info": {
   "codemirror_mode": {
    "name": "ipython",
    "version": 3
   },
   "file_extension": ".py",
   "mimetype": "text/x-python",
   "name": "python",
   "nbconvert_exporter": "python",
   "pygments_lexer": "ipython3",
   "version": "3.7.3"
  }
 },
 "nbformat": 4,
 "nbformat_minor": 2
}
