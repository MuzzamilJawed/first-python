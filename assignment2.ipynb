{
 "cells": [
  {
   "cell_type": "code",
   "execution_count": 83,
   "metadata": {},
   "outputs": [
    {
     "name": "stdout",
     "output_type": "stream",
     "text": [
      "verbing\n",
      " OK  got: 'hailing' expected: 'hailing'\n",
      " OK  got: 'swimingly' expected: 'swimingly'\n",
      " OK  got: 'do' expected: 'do'\n",
      "not_bad\n",
      " OK  got: 'This movie is good' expected: 'This movie is good'\n",
      " OK  got: 'This dinner is good!' expected: 'This dinner is good!'\n",
      " OK  got: 'This tea is not hot' expected: 'This tea is not hot'\n",
      " OK  got: \"It's bad yet not\" expected: \"It's bad yet not\"\n",
      "front_back\n",
      " OK  got: 'abxcdy' expected: 'abxcdy'\n",
      " OK  got: 'abcxydez' expected: 'abcxydez'\n",
      " OK  got: 'KitDontenut' expected: 'KitDontenut'\n"
     ]
    }
   ],
   "source": [
    "# D. verbing\n",
    "# Given a string, if its length is at least 3,\n",
    "# add 'ing' to its end.\n",
    "# Unless it already ends in 'ing', in which case\n",
    "# add 'ly' instead.\n",
    "# If the string length is less than 3, leave it unchanged.\n",
    "# Return the resulting string.\n",
    "def verbing(s):\n",
    "    a=len(s)\n",
    "    b=s[-3:]\n",
    "    if (a>=3 and b!='ing'):\n",
    "        return s+'ing'\n",
    "    elif(a<3):\n",
    "        return s\n",
    "    elif (a>=3 and b=='ing'):\n",
    "        return s+'ly'\n",
    "\n",
    "\n",
    "# E. not_bad\n",
    "# Given a string, find the first appearance of the\n",
    "# substring 'not' and 'bad'. If the 'bad' follows\n",
    "# the 'not', replace the whole 'not'...'bad' substring\n",
    "# with 'good'.\n",
    "# Return the resulting string.\n",
    "# So 'This dinner is not that bad!' yields:\n",
    "# This dinner is good!\n",
    "def not_bad(s):\n",
    "    snot = s.find('not')\n",
    "    sbad = s.find('bad')\n",
    "    if (sbad > snot):\n",
    "        s = s.replace(s[snot:(sbad+3)], 'good')\n",
    "\n",
    "        return s\n",
    "    else:\n",
    "        return s\n",
    "\n",
    "\n",
    "# F. front_back\n",
    "# Consider dividing a string into two halves.\n",
    "# If the length is even, the front and back halves are the same length.\n",
    "# If the length is odd, we'll say that the extra char goes in the front half.\n",
    "# e.g. 'abcde', the front half is 'abc', the back half 'de'.\n",
    "# Given 2 strings, a and b, return a string of the form\n",
    "#  a-front + b-front + a-back + b-back\n",
    "def front_back(a, b):\n",
    "    half, rem = divmod(len(a), 2)\n",
    "    half2, rem2 = divmod(len(b), 2)\n",
    "    return a[:half + rem] + b[:half2 + rem2] + a[half + rem:] + b[half2 + rem2:]\n",
    "\n",
    "\n",
    "# Simple provided test() function used in main() to print\n",
    "# what each function returns vs. what it's supposed to return.\n",
    "def test(got, expected):\n",
    "  if got == expected:\n",
    "    prefix = ' OK '\n",
    "  else:\n",
    "    prefix = '  X '\n",
    "  print ('%s got: %s expected: %s' % (prefix, repr(got), repr(expected)))\n",
    "\n",
    "\n",
    "# main() calls the above functions with interesting inputs,\n",
    "# using the above test() to check if the result is correct or not.\n",
    "def main():\n",
    "  print ('verbing')\n",
    "  test(verbing('hail'), 'hailing')\n",
    "  test(verbing('swiming'), 'swimingly')\n",
    "  test(verbing('do'), 'do')\n",
    "\n",
    "  print\n",
    "  print ('not_bad')\n",
    "  test(not_bad('This movie is not so bad'), 'This movie is good')\n",
    "  test(not_bad('This dinner is not that bad!'), 'This dinner is good!')\n",
    "  test(not_bad('This tea is not hot'), 'This tea is not hot')\n",
    "  test(not_bad(\"It's bad yet not\"), \"It's bad yet not\")\n",
    "\n",
    "  print\n",
    "  print ('front_back')\n",
    "  test(front_back('abcd', 'xy'), 'abxcdy')\n",
    "  test(front_back('abcde', 'xyz'), 'abcxydez')\n",
    "  test(front_back('Kitten', 'Donut'), 'KitDontenut')\n",
    "\n",
    "if __name__ == '__main__':\n",
    "  main()\n"
   ]
  },
  {
   "cell_type": "code",
   "execution_count": 78,
   "metadata": {},
   "outputs": [],
   "source": [
    "# D. verbing\n",
    "# Given a string, if its length is at least 3,\n",
    "# add 'ing' to its end.\n",
    "# Unless it already ends in 'ing', in which case\n",
    "# add 'ly' instead.\n",
    "# If the string length is less than 3, leave it unchanged.\n",
    "# Return the resulting string.\n",
    "def verbing(s):\n",
    "    a=len(s)\n",
    "    b=s[-3:]\n",
    "    if (a>=3 and b!='ing'):\n",
    "        return s+'ing'\n",
    "    elif(a<3):\n",
    "        return s\n",
    "    elif (a>=3 and b=='ing'):\n",
    "        return s+'ly'"
   ]
  },
  {
   "cell_type": "code",
   "execution_count": null,
   "metadata": {},
   "outputs": [],
   "source": []
  },
  {
   "cell_type": "code",
   "execution_count": 79,
   "metadata": {},
   "outputs": [
    {
     "data": {
      "text/plain": [
       "'singly'"
      ]
     },
     "execution_count": 79,
     "metadata": {},
     "output_type": "execute_result"
    }
   ],
   "source": [
    "verbing('sing')"
   ]
  },
  {
   "cell_type": "code",
   "execution_count": 63,
   "metadata": {},
   "outputs": [],
   "source": [
    "# E. not_bad\n",
    "# Given a string, find the first appearance of the\n",
    "# substring 'not' and 'bad'. If the 'bad' follows\n",
    "# the 'not', replace the whole 'not'...'bad' substring\n",
    "# with 'good'.\n",
    "# Return the resulting string.\n",
    "# So 'This dinner is not that bad!' yields:\n",
    "# This dinner is good!\n",
    "def not_bad(s):\n",
    "    snot = s.find('not')\n",
    "    sbad = s.find('bad')\n",
    "    if (sbad > snot):\n",
    "        s = s.replace(s[snot:(sbad+3)], 'good')\n",
    "\n",
    "        return s\n",
    "    else:\n",
    "        return s"
   ]
  },
  {
   "cell_type": "code",
   "execution_count": 64,
   "metadata": {},
   "outputs": [
    {
     "name": "stdout",
     "output_type": "stream",
     "text": [
      "24\n"
     ]
    },
    {
     "data": {
      "text/plain": [
       "'This dinner is good!'"
      ]
     },
     "execution_count": 64,
     "metadata": {},
     "output_type": "execute_result"
    }
   ],
   "source": [
    "not_bad('This dinner is not that bad!')"
   ]
  },
  {
   "cell_type": "code",
   "execution_count": 76,
   "metadata": {},
   "outputs": [],
   "source": [
    "# F. front_back\n",
    "# Consider dividing a string into two halves.\n",
    "# If the length is even, the front and back halves are the same length.\n",
    "# If the length is odd, we'll say that the extra char goes in the front half.\n",
    "# e.g. 'abcde', the front half is 'abc', the back half 'de'.\n",
    "# Given 2 strings, a and b, return a string of the form\n",
    "#  a-front + b-front + a-back + b-back\n",
    "def front_back(a, b):\n",
    "    half, rem = divmod(len(a), 2)\n",
    "    half2, rem2 = divmod(len(a), 2)\n",
    "    return a[:half + rem], a[half + rem:] , b[:half2 + rem2], b[half2 + rem2:]\n"
   ]
  },
  {
   "cell_type": "code",
   "execution_count": 77,
   "metadata": {},
   "outputs": [
    {
     "name": "stdout",
     "output_type": "stream",
     "text": [
      "2 1\n"
     ]
    },
    {
     "data": {
      "text/plain": [
       "('abc', 'de', 'abc', 'd')"
      ]
     },
     "execution_count": 77,
     "metadata": {},
     "output_type": "execute_result"
    }
   ],
   "source": [
    "front_back('abcde','abcd')"
   ]
  },
  {
   "cell_type": "code",
   "execution_count": null,
   "metadata": {},
   "outputs": [],
   "source": []
  }
 ],
 "metadata": {
  "kernelspec": {
   "display_name": "Python 3",
   "language": "python",
   "name": "python3"
  },
  "language_info": {
   "codemirror_mode": {
    "name": "ipython",
    "version": 3
   },
   "file_extension": ".py",
   "mimetype": "text/x-python",
   "name": "python",
   "nbconvert_exporter": "python",
   "pygments_lexer": "ipython3",
   "version": "3.7.3"
  }
 },
 "nbformat": 4,
 "nbformat_minor": 2
}
